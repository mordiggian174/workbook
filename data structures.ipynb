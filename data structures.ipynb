{
 "cells": [
  {
   "cell_type": "code",
   "execution_count": null,
   "id": "2021d759",
   "metadata": {
    "code_folding": [
     0
    ]
   },
   "outputs": [],
   "source": [
    "class Node():\n",
    "    def __init__(self, val = None, i = None, j = None):\n",
    "        self.value = val\n",
    "        self.next = i\n",
    "        self.prev = j\n",
    "    def get_next(self):\n",
    "        return self.next\n",
    "    def get_value(self):\n",
    "        return self.value\n",
    "    def get_prev(self):\n",
    "        return self.prev"
   ]
  },
  {
   "cell_type": "code",
   "execution_count": null,
   "id": "15734312",
   "metadata": {
    "code_folding": [
     0
    ]
   },
   "outputs": [],
   "source": [
    "class stack():\n",
    "    def __init__(self):\n",
    "        self.top = None\n",
    "\n",
    "    def get_top(self):\n",
    "        if self.top is not None:\n",
    "            return self.top.get_value()\n",
    "        return []\n",
    "\n",
    "    def pop(self):\n",
    "        if self.top is not None:\n",
    "            val = self.top.get_value()\n",
    "            self.top = self.top.get_next()\n",
    "            return val\n",
    "        return []\n",
    "\n",
    "    def push(self, val):\n",
    "        x = Node(val)\n",
    "        x.next = self.top\n",
    "        self.top = x\n",
    "\n",
    "    def get_all(self):\n",
    "        res = []\n",
    "        temp = self.top\n",
    "        while temp is not None:\n",
    "            res.append(temp.get_value())\n",
    "            temp = temp.get_next()\n",
    "        print(res)"
   ]
  },
  {
   "cell_type": "code",
   "execution_count": null,
   "id": "a67bf9c4",
   "metadata": {
    "code_folding": [
     0
    ]
   },
   "outputs": [],
   "source": [
    "class queue():\n",
    "    def __init__(self):\n",
    "        self.front = self.back = None\n",
    "\n",
    "    def push(self, val):\n",
    "        node = Node(val)\n",
    "        if self.back is not None:\n",
    "            self.back.next = node\n",
    "            self.back = node\n",
    "        else:\n",
    "            self.front = node\n",
    "            self.back = node\n",
    "\n",
    "    def pop(self):\n",
    "        if self.front is not None:\n",
    "            val = self.front.get_value()\n",
    "            self.front = self.front.get_next()\n",
    "            return val\n",
    "        return []\n",
    "\n",
    "    def get_front(self):\n",
    "        if self.front is not None:\n",
    "            return self.front.get_value()\n",
    "        else:\n",
    "            return []\n",
    "\n",
    "    def get_back(self):\n",
    "        return self.back.get_value()\n",
    "\n",
    "    def get_all(self):\n",
    "        temp = self.front\n",
    "        res = []\n",
    "        while temp is not None:\n",
    "            res.append(temp.get_value())\n",
    "            temp = temp.get_next()\n",
    "        return res"
   ]
  },
  {
   "cell_type": "code",
   "execution_count": null,
   "id": "d952f259",
   "metadata": {
    "code_folding": [
     0
    ]
   },
   "outputs": [],
   "source": [
    "class deque():\n",
    "    def __init__(self):\n",
    "        self.front = self.back = None\n",
    "\n",
    "    def push_back(self, val):\n",
    "        node = Node(val)\n",
    "        if self.back is not None:\n",
    "            self.back.next = node\n",
    "            node.prev = self.back\n",
    "            self.back = node\n",
    "        else:\n",
    "            self.back = node\n",
    "            self.front = node\n",
    "\n",
    "    def push_front(self, val):\n",
    "        node = Node(val)\n",
    "        if self.front is not None:\n",
    "            self.front.prev = node\n",
    "            node.next = self.front\n",
    "            self.front = node\n",
    "        else:\n",
    "            self.front = node\n",
    "            self.back = node\n",
    "\n",
    "    def get_all_front(self):\n",
    "        res = []\n",
    "        temp = self.front\n",
    "        while temp is not None:\n",
    "            res.append(temp.get_value())\n",
    "            temp = temp.get_next()\n",
    "        return res\n",
    "\n",
    "    def get_all_back(self):\n",
    "        res = []\n",
    "        temp = self.back\n",
    "        while temp is not None:\n",
    "            res.append(temp.get_value())\n",
    "            temp = temp.get_prev()\n",
    "        return res\n",
    "\n",
    "    def pop_back(self):\n",
    "        if self.back is None:\n",
    "            return []\n",
    "        val = self.back.get_value()\n",
    "        self.back = self.back.get_prev()\n",
    "        self.back.next = None\n",
    "        return val\n",
    "\n",
    "    def pop_front(self):\n",
    "        if self.front is None:\n",
    "            return []\n",
    "        val = self.front.get_value()\n",
    "        self.front = self.front.get_next()\n",
    "        self.front.prev = None\n",
    "        return val"
   ]
  },
  {
   "cell_type": "markdown",
   "id": "eb3948ef",
   "metadata": {},
   "source": [
    "**Приоритетная очередь**\n",
    "\n",
    "**Interface:**\n",
    "* insert\n",
    "* extract_min\n",
    "\n",
    "Применяется для упорядоченного множества, чтобы поиск был однозначным можно использовать insert_id\\\n",
    "(его можно поддерживать с помощью двух массивов).\n"
   ]
  },
  {
   "cell_type": "markdown",
   "id": "73d3a5d0",
   "metadata": {},
   "source": [
    "**Двоичная куча (with delete, decrease_key)** \\\n",
    "\n",
    "Основные операции выполняются с помощью sift-процедур. \n",
    "Для работы с внешней памятью можно настраивать баланс siftUp vs siftDown k-ичными аналогами.\n",
    "Построение на месте за $\\mathcal{O}(n)$, добавление и удаление за $\\mathcal{O}(\\log n)$."
   ]
  },
  {
   "cell_type": "code",
   "execution_count": 1,
   "id": "588e2c89",
   "metadata": {},
   "outputs": [],
   "source": [
    "#import heapq\n",
    "#array = list()\n",
    "#heapq.heapify(array)\n",
    "#heapq.heappush(array,item)\n",
    "#hepq.heappop(array)"
   ]
  },
  {
   "cell_type": "markdown",
   "id": "a0c3275f",
   "metadata": {},
   "source": [
    "**Левосторонняя куча (with merge)**\n",
    "\n",
    "Поддерживается инвариант, что node.L.d>=node.R.d (кратчайший путь до отсутствующего ребенка - идти вправо)\\\n",
    "Все операции выражаются через merge(heap_a, heap_b), а она рекурсивна и работает за $\\mathcal{O}(\\log ab)$"
   ]
  },
  {
   "cell_type": "code",
   "execution_count": 2,
   "id": "6f972605",
   "metadata": {},
   "outputs": [],
   "source": [
    "# class Node():\n",
    "#    self.val\n",
    "#    self.L\n",
    "#    self.R\n",
    "#    self.d"
   ]
  },
  {
   "cell_type": "code",
   "execution_count": 3,
   "id": "dd737d1d",
   "metadata": {},
   "outputs": [],
   "source": [
    "# merge(heap_a,heap_b):\n",
    "#    if heap_a.extract_min > heap_b.extract_min:\n",
    "#        heap_a, heap_b = heap_b,heap_a\n",
    "#    root = heap_a.pop\n",
    "#    root.L=heap_a.L\n",
    "#    root.R=merge(heap_a.R,heap_b)\n",
    "#    if root.R.d>root.L.d:\n",
    "#        root.R, root.L = root.L, root.R"
   ]
  },
  {
   "cell_type": "markdown",
   "id": "6896e2e2",
   "metadata": {},
   "source": [
    "**Union Find Set / DES**\n",
    "\n",
    "**Interface:**\n",
    "* Уметь быстро объединять какие-то классы множеств (union)\n",
    "* Уметь быстро узнавать, к какому классу относится объект (find)\n",
    "\n",
    "**Реализации**\n",
    "\n",
    "* На списках (работает в среднем за $\\mathcal{O}(\\log n)$ с рангами). Там у нас есть массив цветов и список с элементами класса. Больше чем $\\log n$ перекладываний в другой класс быть не может.\n",
    "* На деревьях (ранговая и ссылочная эвристики) можно считать за $\\mathcal{O}(1)^*$\n",
    "\n",
    "\n"
   ]
  },
  {
   "cell_type": "code",
   "execution_count": 4,
   "id": "0e9918f1",
   "metadata": {
    "code_folding": [
     0
    ]
   },
   "outputs": [],
   "source": [
    "class UnionFind():\n",
    "    def __init__(self, size=0):\n",
    "        self.roots = list(range(size))\n",
    "        self.ranks = [1] * size\n",
    "\n",
    "    def find(self, id):\n",
    "        if id == self.roots[id]:\n",
    "            return id\n",
    "        self.roots[id] = self.find(self.roots[id])\n",
    "        return self.roots[id]\n",
    "\n",
    "    def union(self, id1, id2):\n",
    "        root1 = self.find(id1)\n",
    "        root2 = self.find(id2)\n",
    "        if root1 != root2:\n",
    "            if self.ranks[root1] > self.ranks[root2]:\n",
    "                self.roots[root2] = root1\n",
    "                self.ranks[root1] += self.ranks[root2]\n",
    "            else:\n",
    "                self.roots[root1] = root2\n",
    "                self.ranks[root2] += self.ranks[root1]"
   ]
  },
  {
   "cell_type": "markdown",
   "id": "16321ba8",
   "metadata": {},
   "source": [
    "**Binary Search Tree**\n",
    "\n",
    "**Interface:**\n",
    "* insert( ): надо идти в то место, где бы мы его искали\n",
    "* delete( ) : Если 0 или 1 - то просто удаляем вершину и ставим ребенка на её место, если же детей двое, то ищем минимальную node в правом поддереве и заменяем удаляемую вершину на нее \n",
    "\n",
    "**Advanced Interface**:\n",
    "* get_next( ), get_prev( )\n",
    "* findkth( ) \n",
    "* find_biggest( ), find_smallest( )\n",
    "\n",
    "**Structure:**\n",
    "* Поддерживается инвариант, что значения в левом поддереве меньше значения родителей, а в правом - больше\n"
   ]
  },
  {
   "cell_type": "code",
   "execution_count": 5,
   "id": "85460886",
   "metadata": {
    "code_folding": [
     0
    ]
   },
   "outputs": [],
   "source": [
    "# delete(root, key):\n",
    "#     if root is None:\n",
    "#         return None\n",
    "#     if root.val > key:\n",
    "#         root = root.L\n",
    "#     elif root.val < key:\n",
    "#         root=root.R\n",
    "#     else:\n",
    "#         if root.R is None:\n",
    "#             return root.L\n",
    "#         else:\n",
    "#             m = get_min(root.R)\n",
    "#             delete(root.R, m.val)\n",
    "#             m.L = root.L\n",
    "#             m.R = root.R\n",
    "#             return m\n",
    "        "
   ]
  },
  {
   "cell_type": "code",
   "execution_count": 6,
   "id": "70a1a48b",
   "metadata": {
    "code_folding": [
     0
    ]
   },
   "outputs": [],
   "source": [
    "# def get_next(node):\n",
    "#     if node.R is not None:\n",
    "#         return get_min(node.R)\n",
    "#     p = node.prev\n",
    "#     while p is not None and p.R == node:\n",
    "#         node = p\n",
    "#         p = p.prev\n",
    "#     return p"
   ]
  },
  {
   "cell_type": "code",
   "execution_count": 7,
   "id": "1a20c4bf",
   "metadata": {
    "code_folding": [
     0
    ]
   },
   "outputs": [],
   "source": [
    "# Надо хранить ещё размер поддеревьев Node.size\n",
    "\n",
    "def findkth(root, k):\n",
    "    assert k<root.size, 'Error, k more then the size of BST'\n",
    "    leftsize = 0 if root.L is None else root.L.size\n",
    "    if leftsize>=k:\n",
    "        return findkth(root.L,k)\n",
    "\n",
    "    elif leftsize==k-1:\n",
    "        return root.val\n",
    "    else:\n",
    "        return findkth(root.R, k - leftsize - 1)"
   ]
  },
  {
   "cell_type": "markdown",
   "id": "f986b048",
   "metadata": {},
   "source": [
    "Но все это работает за $\\mathcal{O}(n)$, если не контролировать высоту дерева.\n",
    "\n",
    "**AVL Tree**\n",
    "* Будем требовать, чтобы у любой вершины дерева высоты поддеревьев отличались не больше чем на один, тогда высота будет $\\mathcal{O}(\\log n)$\n",
    "\n",
    "**Red-black Tree**\n",
    "* До любого листа одинаковое количество черных нод\n",
    "* Две подряд красные ноды не встречаются \n",
    "\n",
    "Можно показать, что высота будет тоже логарифмична. И не надо хранить полностью высоту дерева, важен только цвет\n",
    "\n",
    "**B-Tree**\n",
    "* Фиксируется параметр $m\\geq2$, больше которого детей быть не может\n",
    "* У любой внутренней вершины хотя бы $\\lceil \\frac{m}{2}\\rceil$ детей\n",
    "* Все листья на одной глубине\n",
    "* Количество детей на 1 больше, чем количество ключей внутри ноды\n",
    "\n",
    "Это позволяет оптимизировать количество запросов к внешней памяти, если ключи хранятся там. Параметр m определяет так называемую ширину дерева. \n",
    "Частный случай: 2-3 Дерево - это  2-дерево\n",
    "\n",
    "**Splay-Tree**\n",
    "* Нет какой-то особенной структуры, каждый раз самая глубокая посещенная вершина становится корнем (через zipzag, zigzig, zig)\n",
    "* Оценивается с помощью метода потенциала амортизационная сложность порядка $\\log(n)$, **в том числе при merge**. Потенциал - это сумма по вершинам логарифмов от размера их поддеревьев.\n",
    "\n",
    "**Декартово дерево/ Treap (tree + heap)/ Дуча (дерево + куча)**\n",
    "* Идея структуры в том, что поддерживается инвариант: приоритет родителя больше приоритета детей.\n",
    "* Анализ сложности (мат.ожидание высоты) как и в quick_sort'e: его сложность - это сумма высот всех вершин, при этом ключ равняется значению элемента в массиве, а приоритет - это номер выбора для разбиения. Получается, что сумма всех высот -  $\\mathcal{O}(n\\log n)$, значит, средняя высота порядка $\\log n$. Это всё при условии, что **приоритеты равновероятны**\n",
    "* Можно даже доказать, что мат.ожидание максимальной высоты тоже порядка $\\log n$.\n",
    "* Также можно реализовать **merge** (как всегда, при условии, что ключи одного дерева больше ключей другого).\n",
    "* По аналогии с quick_sort можно ввести операцию split(key) разделения на поддеревья больше/меньше ключа"
   ]
  },
  {
   "cell_type": "code",
   "execution_count": 8,
   "id": "fb9f40dd",
   "metadata": {
    "code_folding": [
     0
    ]
   },
   "outputs": [],
   "source": [
    "# def split(root: Node, key: int):\n",
    "#     if root is None:\n",
    "#         return None, None\n",
    "#     if root.key < key:\n",
    "#         tree1, tree2 = split(root.R, key)\n",
    "#         root.R = tree1\n",
    "#         return root, tree2\n",
    "#     elif root.key > key:\n",
    "#         tree1,tree2 = split(root.L, key)\n",
    "#         root.L = tree2\n",
    "#         return tree1, root\n",
    "#     else:\n",
    "#         return root.L, root.R"
   ]
  },
  {
   "cell_type": "markdown",
   "id": "43e36b9b",
   "metadata": {},
   "source": [
    "Пусть нам даны пары $(x_i,y_i)$, где $x$ - ключ, $y$ - приоритет. Также предположим, что пары отсортированы по $x$.\n",
    "Тогда можно **построить treap за $\\mathcal{O}(n)$** следующим образом:\n",
    "(поддерживаем инвариант, что текущая вершина - самая правая в дереве)\n",
    "* на шаге k+1 у нас в самом правом узле пара $(x_k,y_k)$\n",
    "* пытаемся сделать $(x_{k+1},y_{k+1})$ его правым сыном \n",
    "* если приоритеты не соблюдены, то идем по родителям, пока приоритеты не соблюдены\n",
    "* делаем у найденного родителя правым сыном $(x_{k+1},y_{k+1})$, а его предыдущего правого сына делаем левым потомком $k+1$-го\n",
    "\n",
    "Заметим, т.к. мы каждый раз стартуем сразу с самой правой вершины, любая нода посещается не более двух раз (при добавлении и при перекидывании в чьё-то левое поддерево)."
   ]
  }
 ],
 "metadata": {
  "kernelspec": {
   "display_name": "Python 3 (ipykernel)",
   "language": "python",
   "name": "python3"
  },
  "language_info": {
   "codemirror_mode": {
    "name": "ipython",
    "version": 3
   },
   "file_extension": ".py",
   "mimetype": "text/x-python",
   "name": "python",
   "nbconvert_exporter": "python",
   "pygments_lexer": "ipython3",
   "version": "3.8.8"
  }
 },
 "nbformat": 4,
 "nbformat_minor": 5
}
