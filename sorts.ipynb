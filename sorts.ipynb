{
 "cells": [
  {
   "cell_type": "code",
   "execution_count": 5,
   "id": "fdab5079",
   "metadata": {},
   "outputs": [],
   "source": [
    "from typing import List\n",
    "import random"
   ]
  },
  {
   "cell_type": "markdown",
   "id": "37217010",
   "metadata": {},
   "source": [
    "**Сортировки со сравнениями**\n",
    "* сортировка выбором (n итераций по всему массиву вправо с поиском текущего минимума)\n",
    "* сортировка вставками (можно рассмотреть как онлайн алгоритм с проталкиванием поступившего элемента в нужную позицию)\n",
    "* сортировка слияниями \n",
    "* быстрая сортировка"
   ]
  },
  {
   "cell_type": "code",
   "execution_count": 6,
   "id": "d0a42e7a",
   "metadata": {
    "code_folding": []
   },
   "outputs": [],
   "source": [
    "def test_sort(sort):\n",
    "    test_examples = [[], [1, 2, 3], [3, 2, 1], [4, 5, 6, 3, 2, 1],\n",
    "                     [4, 5, 6, 2, 3, 1], [1, 6, 5, 14, 61, 761, 4]]\n",
    "    test_answers = [[], [1, 2, 3], [1, 2, 3], [1, 2, 3, 4, 5, 6],\n",
    "                    [1, 2, 3, 4, 5, 6], [1, 4, 5, 6, 14, 61, 761]]\n",
    "    for i, ex in enumerate(test_examples):\n",
    "        sort(ex)\n",
    "        assert test_answers[i] == ex, f'test case {i} error, answer{ex}'\n",
    "    n = len(test_examples)\n",
    "    return f'{n}/{n} tests passed'"
   ]
  },
  {
   "cell_type": "code",
   "execution_count": 7,
   "id": "66b43503",
   "metadata": {
    "code_folding": []
   },
   "outputs": [],
   "source": [
    "def random_tester_sort(sort, num_tests=100, len_arr=10):\n",
    "    for test in range(num_tests):\n",
    "        ex = []\n",
    "        for i in range(0, len_arr):\n",
    "            ex.append(random.randint(0, 100))\n",
    "        res = sort(ex)\n",
    "        z = ex.sort()\n",
    "        assert res == ex\n",
    "    return f'{num_tests}/{num_tests} tests passed'"
   ]
  },
  {
   "cell_type": "code",
   "execution_count": 8,
   "id": "909153d2",
   "metadata": {
    "code_folding": [
     0
    ]
   },
   "outputs": [
    {
     "data": {
      "text/plain": [
       "'100/100 tests passed'"
      ]
     },
     "execution_count": 8,
     "metadata": {},
     "output_type": "execute_result"
    }
   ],
   "source": [
    "def choice_sort(a: List[int]) -> List[int]:\n",
    "    n = len(a)\n",
    "    for i in range(n):\n",
    "        min_ = a[i]\n",
    "        id_ = i\n",
    "        for j in range(i + 1, n):\n",
    "            if a[j] < min_:\n",
    "                min_ = a[j]\n",
    "                id_ = j\n",
    "        a[i], a[id_] = a[id_], a[i]\n",
    "    return a\n",
    "\n",
    "\n",
    "test_sort(choice_sort)\n",
    "random_tester_sort(choice_sort)"
   ]
  },
  {
   "cell_type": "code",
   "execution_count": 9,
   "id": "e9ef2086",
   "metadata": {
    "code_folding": []
   },
   "outputs": [
    {
     "data": {
      "text/plain": [
       "'100/100 tests passed'"
      ]
     },
     "execution_count": 9,
     "metadata": {},
     "output_type": "execute_result"
    }
   ],
   "source": [
    "def insert_sort(a: List[int]) -> List[int]:\n",
    "    ''' plus: ~ num of inversion operations\n",
    "    '''\n",
    "    n = len(a)\n",
    "    for i in range(1, n):\n",
    "        j = i\n",
    "        while j > 0 and a[j - 1] > a[j]:\n",
    "            a[j], a[j - 1] = a[j - 1], a[j]\n",
    "            j -= 1\n",
    "    return a\n",
    "\n",
    "\n",
    "test_sort(insert_sort)\n",
    "random_tester_sort(insert_sort)"
   ]
  },
  {
   "cell_type": "code",
   "execution_count": 10,
   "id": "ba740d3c",
   "metadata": {
    "code_folding": []
   },
   "outputs": [
    {
     "data": {
      "text/plain": [
       "'100/100 tests passed'"
      ]
     },
     "execution_count": 10,
     "metadata": {},
     "output_type": "execute_result"
    }
   ],
   "source": [
    "def merge_sort(a: List[int], l=None, r=None) -> List[int]:\n",
    "    '''\n",
    "    plus: stability\n",
    "    minus: ~ 2n memory\n",
    "    a - int array for sort\n",
    "    l - left index\n",
    "    r - right index\n",
    "    '''\n",
    "    if l is None:\n",
    "        l = 0\n",
    "    if r is None:\n",
    "        r = len(a)\n",
    "    if r - l <= 1:\n",
    "        return a\n",
    "    m = (l + r) // 2\n",
    "    merge_sort(a, l, m)\n",
    "    merge_sort(a, m, r)\n",
    "    i, j, p = l, m, 0\n",
    "    t = [0] * (r - l)\n",
    "    while i < m and j < r:\n",
    "        if a[i] < a[j]:\n",
    "            t[p] = a[i]\n",
    "            i, p = i + 1, p + 1\n",
    "        else:\n",
    "            t[p] = a[j]\n",
    "            j, p = j + 1, p + 1\n",
    "    while i < m:\n",
    "        t[p] = a[i]\n",
    "        p, i = p + 1, i + 1\n",
    "    while j < r:\n",
    "        t[p] = a[j]\n",
    "        p, j = p + 1, j + 1\n",
    "    for i in range(r - l):\n",
    "        a[l + i] = t[i]\n",
    "    return a\n",
    "\n",
    "\n",
    "test_sort(merge_sort)\n",
    "random_tester_sort(merge_sort)"
   ]
  },
  {
   "cell_type": "code",
   "execution_count": 11,
   "id": "a461e698",
   "metadata": {
    "code_folding": [
     0,
     28
    ]
   },
   "outputs": [
    {
     "data": {
      "text/plain": [
       "'100/100 tests passed'"
      ]
     },
     "execution_count": 11,
     "metadata": {},
     "output_type": "execute_result"
    }
   ],
   "source": [
    "def partition(a: List[int], l=None, r=None, id_=None):\n",
    "    '''\n",
    "    peek random x in arr;\n",
    "    then partition arr by it;\n",
    "    \n",
    "    return id, which satisfies follow inequalities:\n",
    "        if i<id -> arr[i]<=x; if i>id -> arr[i]>x\n",
    "    '''\n",
    "    if l is None:\n",
    "        l = 0\n",
    "    if r is None:\n",
    "        r = len(a)\n",
    "    assert r - l > 1\n",
    "    if id_ is None:\n",
    "        id_ = random.randint(l, r - 1)\n",
    "    x = a[id_]\n",
    "    a[l], a[id_] = a[id_], a[l]\n",
    "    i, j = l + 1, r - 1\n",
    "    while i <= j:\n",
    "        if a[i] > x:\n",
    "            a[j], a[i] = a[i], a[j]\n",
    "            j -= 1\n",
    "        else:\n",
    "            i += 1\n",
    "    a[l], a[i - 1] = a[i - 1], a[l]\n",
    "    return i - 1\n",
    "\n",
    "\n",
    "def quick_sort(a: List[int], l=None, r=None) -> List[int]:\n",
    "    if l is None:\n",
    "        l = 0\n",
    "    if r is None:\n",
    "        r = len(a)\n",
    "    if r - l <= 1:\n",
    "        return a\n",
    "    ind = partition(a, l, r)\n",
    "    quick_sort(a, l, ind)\n",
    "    quick_sort(a, ind, r)\n",
    "    return a\n",
    "\n",
    "\n",
    "test_sort(quick_sort)\n",
    "random_tester_sort(quick_sort)"
   ]
  },
  {
   "cell_type": "markdown",
   "id": "e0a215ef",
   "metadata": {},
   "source": [
    "**Сортировки без сравнений**\n",
    "* counting sort\n",
    "* digit sort"
   ]
  },
  {
   "cell_type": "markdown",
   "id": "0d184bb7",
   "metadata": {},
   "source": [
    "$counting\\_sort$\n",
    "\n",
    "Работает в ситуации, когда все элементы массива $a_i$  ограничены каким-то числом $C$.\n",
    "\n",
    "Считая, что аллокация памяти работает за $\\mathcal{O}(1)$, алгоритм работает за $\\mathcal{O}(C+n)$ памяти и времени.\n",
    "Важно, что он линеен по количеству элементов, но размер входа все-таки $\\mathcal{O}(n\\log C)$.\n"
   ]
  },
  {
   "cell_type": "code",
   "execution_count": 14,
   "id": "bc76be02",
   "metadata": {},
   "outputs": [
    {
     "data": {
      "text/plain": [
       "'100/100 tests passed'"
      ]
     },
     "execution_count": 14,
     "metadata": {},
     "output_type": "execute_result"
    }
   ],
   "source": [
    "def countsort(a:List[int],C=1000)->List[int]:\n",
    "    '''\n",
    "    0<=arr[i]<C\n",
    "    '''\n",
    "    n = len(a)\n",
    "    temp = [0]*C\n",
    "    for el in a:\n",
    "        temp[el]+=1\n",
    "    res = []\n",
    "    j = 0\n",
    "    for i, el in enumerate(temp):\n",
    "        while el>0:\n",
    "            a[j]=i\n",
    "            j+=1\n",
    "            el-=1\n",
    "    return a\n",
    "test_sort(countsort)            \n",
    "random_tester_sort(countsort)"
   ]
  },
  {
   "cell_type": "markdown",
   "id": "008bd68e",
   "metadata": {},
   "source": [
    "Улучшение этой идеи ($digitsort/radixsort$) - сортировка кортежей чисел, по факту это запись в $C$-ичной системе исчисления.\n",
    "\n",
    "Запускаем $\\log_C \\max_i |a[i]|$ сортировок подсчетом по конкретной цифре в записи, начиная с самой последней.\n",
    "\n",
    "Из-за того, что она устойчива, в конце мы получим лексикографически отсортированные числа. По времени это $\\mathcal{O}\\left((n+C)\\cdot\\log_C X\\right)$, где $X = \\max_i |a_i|$. Устойчивость достигается тем, что мы идем с конца списка и уже заранее знаем, сколько каких значений встретим и кладем в нужное место."
   ]
  },
  {
   "cell_type": "code",
   "execution_count": 15,
   "id": "c2fb6d9b",
   "metadata": {
    "code_folding": [
     0
    ]
   },
   "outputs": [
    {
     "data": {
      "text/plain": [
       "'100/100 tests passed'"
      ]
     },
     "execution_count": 15,
     "metadata": {},
     "output_type": "execute_result"
    }
   ],
   "source": [
    "def counting_sort(a: List[int], deg: int) -> List[int]:\n",
    "    n = len(a)\n",
    "    count, output = [0] * 10, [0] * n\n",
    "    for i in range(n):\n",
    "        tail = 10**deg\n",
    "        val = a[i] // tail\n",
    "        count[val % 10] += 1\n",
    "\n",
    "    for i in range(1, 10):\n",
    "        count[i] += count[i - 1]\n",
    "    i = n - 1\n",
    "    while i >= 0:\n",
    "        tail = 10**deg\n",
    "        val = a[i] // tail\n",
    "        index = val % 10\n",
    "        output[count[index] - 1] = a[i]\n",
    "        count[index] -= 1\n",
    "        i -= 1\n",
    "    for i in range(n):\n",
    "        a[i] = output[i]\n",
    "    return\n",
    "\n",
    "\n",
    "def radix_sort(a: List[int]) -> List[int]:\n",
    "    if a == []:\n",
    "        return a\n",
    "    max_ = max(a)\n",
    "\n",
    "    exp = 0\n",
    "    while (10**exp) < max_:\n",
    "        counting_sort(a, exp)\n",
    "        exp += 1\n",
    "    return a\n",
    "\n",
    "\n",
    "random_tester_sort(radix_sort)\n",
    "random_tester_sort(radix_sort)"
   ]
  }
 ],
 "metadata": {
  "kernelspec": {
   "display_name": "Python 3 (ipykernel)",
   "language": "python",
   "name": "python3"
  },
  "language_info": {
   "codemirror_mode": {
    "name": "ipython",
    "version": 3
   },
   "file_extension": ".py",
   "mimetype": "text/x-python",
   "name": "python",
   "nbconvert_exporter": "python",
   "pygments_lexer": "ipython3",
   "version": "3.8.8"
  }
 },
 "nbformat": 4,
 "nbformat_minor": 5
}
